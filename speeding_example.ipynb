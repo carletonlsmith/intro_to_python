{
 "cells": [
  {
   "cell_type": "markdown",
   "metadata": {},
   "source": [
    "First, let's import the pandas library `pandas`"
   ]
  },
  {
   "cell_type": "code",
   "execution_count": 1,
   "metadata": {},
   "outputs": [],
   "source": [
    "import pandas as pd"
   ]
  },
  {
   "cell_type": "code",
   "execution_count": 5,
   "metadata": {},
   "outputs": [
    {
     "data": {
      "text/plain": [
       "(8437, 4)"
      ]
     },
     "execution_count": 5,
     "metadata": {},
     "output_type": "execute_result"
    }
   ],
   "source": [
    "df = pd.read_csv(\n",
    "    \"https://vincentarelbundock.github.io/Rdatasets/csv/boot/amis.csv\",\n",
    "    usecols=range(1, 5)\n",
    ")\n",
    "df.shape"
   ]
  },
  {
   "cell_type": "markdown",
   "metadata": {},
   "source": [
    "We want to study how the average speed changes in one section of road after the sign was erected, so we need to:\n",
    "\n",
    " - Read the data\n",
    " - Loop over the rows of data\n",
    " - Select data only from the group of interest (just pair 7)\n",
    " - Compute the answer\n"
   ]
  },
  {
   "cell_type": "code",
   "execution_count": 3,
   "metadata": {},
   "outputs": [
    {
     "name": "stdout",
     "output_type": "stream",
     "text": [
      "average before sign:  29.86\n",
      "average after sign:  29.81\n"
     ]
    }
   ],
   "source": [
    "before = []\n",
    "after = []\n",
    "\n",
    "for row in df.values:\n",
    "    if row[3] == 7:  # filter out pair 7\n",
    "        if row[2] == 1:  # \"1\" indicates the presence of a sign\n",
    "            if row[1] == 1:  # period 1 is before there was a sign\n",
    "                before.append(row[0])  # add the speed to the before list\n",
    "            if row[1] == 3:\n",
    "                after.append(row[0])\n",
    "                \n",
    "print(\"average before sign: \", sum(before) / len(before))\n",
    "print(\"average after sign: \", sum(after) / len(after))"
   ]
  },
  {
   "cell_type": "code",
   "execution_count": null,
   "metadata": {},
   "outputs": [],
   "source": []
  },
  {
   "cell_type": "code",
   "execution_count": null,
   "metadata": {},
   "outputs": [],
   "source": []
  }
 ],
 "metadata": {
  "kernelspec": {
   "display_name": "Python 3",
   "language": "python",
   "name": "python3"
  },
  "language_info": {
   "codemirror_mode": {
    "name": "ipython",
    "version": 3
   },
   "file_extension": ".py",
   "mimetype": "text/x-python",
   "name": "python",
   "nbconvert_exporter": "python",
   "pygments_lexer": "ipython3",
   "version": "3.8.5"
  }
 },
 "nbformat": 4,
 "nbformat_minor": 2
}
